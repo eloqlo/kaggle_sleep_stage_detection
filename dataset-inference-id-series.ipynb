{
 "cells": [
  {
   "cell_type": "markdown",
   "id": "32725245",
   "metadata": {
    "papermill": {
     "duration": 0.005281,
     "end_time": "2023-11-21T07:15:40.710770",
     "exception": false,
     "start_time": "2023-11-21T07:15:40.705489",
     "status": "completed"
    },
    "tags": []
   },
   "source": [
    "## Same as sample dataset,\n",
    "\n",
    "but this return not truncated data.\n",
    "\n",
    "just for fast validation.\n",
    "\n",
    "inference need to do all of these in that notebook."
   ]
  },
  {
   "cell_type": "code",
   "execution_count": 1,
   "id": "2324635a",
   "metadata": {
    "_cell_guid": "b1076dfc-b9ad-4769-8c92-a6c4dae69d19",
    "_uuid": "8f2839f25d086af736a60e9eeb907d3b93b6e0e5",
    "execution": {
     "iopub.execute_input": "2023-11-21T07:15:40.722880Z",
     "iopub.status.busy": "2023-11-21T07:15:40.722504Z",
     "iopub.status.idle": "2023-11-21T07:15:40.734079Z",
     "shell.execute_reply": "2023-11-21T07:15:40.732944Z"
    },
    "papermill": {
     "duration": 0.020695,
     "end_time": "2023-11-21T07:15:40.736494",
     "exception": false,
     "start_time": "2023-11-21T07:15:40.715799",
     "status": "completed"
    },
    "tags": []
   },
   "outputs": [],
   "source": [
    "N_DAYS_PER_SAMPLE = 1\n",
    "FIT_INTO_1DAY = True\n",
    "SEPERATE_FEATURES = True  # Not Used\n",
    "# GENERATE_FEATURES = True # generate in Train torch.data.DataSet for efficiency\n",
    "\n",
    "SIGMA = 720 # target gaussian parameter, 12 * 60"
   ]
  },
  {
   "cell_type": "code",
   "execution_count": 2,
   "id": "6d60f063",
   "metadata": {
    "execution": {
     "iopub.execute_input": "2023-11-21T07:15:40.747898Z",
     "iopub.status.busy": "2023-11-21T07:15:40.747531Z",
     "iopub.status.idle": "2023-11-21T07:15:49.279057Z",
     "shell.execute_reply": "2023-11-21T07:15:49.277769Z"
    },
    "papermill": {
     "duration": 8.541049,
     "end_time": "2023-11-21T07:15:49.282490",
     "exception": false,
     "start_time": "2023-11-21T07:15:40.741441",
     "status": "completed"
    },
    "tags": []
   },
   "outputs": [],
   "source": [
    "import pandas as pd\n",
    "import numpy as np\n",
    "import gc\n",
    "import time\n",
    "import json\n",
    "from datetime import datetime\n",
    "import matplotlib.pyplot as plt\n",
    "import os\n",
    "from os.path import join, exists\n",
    "import joblib\n",
    "import random\n",
    "import math\n",
    "from tqdm.auto import tqdm \n",
    "import shutil\n",
    "\n",
    "from scipy.interpolate import interp1d\n",
    "\n",
    "from math import pi, sqrt, exp\n",
    "import sklearn,sklearn.model_selection\n",
    "import torch\n",
    "from torch import nn,Tensor\n",
    "import torch.nn.functional as F\n",
    "from torch.utils.data import DataLoader, Dataset, SubsetRandomSampler\n",
    "from sklearn.metrics import average_precision_score\n",
    "from timm.scheduler import CosineLRScheduler\n",
    "plt.style.use(\"ggplot\")\n",
    "\n",
    "from pyarrow.parquet import ParquetFile\n",
    "import pyarrow as pa \n",
    "import ctypes"
   ]
  },
  {
   "cell_type": "code",
   "execution_count": 3,
   "id": "01579631",
   "metadata": {
    "execution": {
     "iopub.execute_input": "2023-11-21T07:15:49.294412Z",
     "iopub.status.busy": "2023-11-21T07:15:49.293676Z",
     "iopub.status.idle": "2023-11-21T07:15:49.298335Z",
     "shell.execute_reply": "2023-11-21T07:15:49.297486Z"
    },
    "papermill": {
     "duration": 0.013158,
     "end_time": "2023-11-21T07:15:49.300617",
     "exception": false,
     "start_time": "2023-11-21T07:15:49.287459",
     "status": "completed"
    },
    "tags": []
   },
   "outputs": [],
   "source": [
    "out_dir = \"train_data\"\n",
    "os.makedirs(out_dir, exist_ok = True)"
   ]
  },
  {
   "cell_type": "code",
   "execution_count": 4,
   "id": "598a6948",
   "metadata": {
    "execution": {
     "iopub.execute_input": "2023-11-21T07:15:49.311922Z",
     "iopub.status.busy": "2023-11-21T07:15:49.311341Z",
     "iopub.status.idle": "2023-11-21T07:15:49.315742Z",
     "shell.execute_reply": "2023-11-21T07:15:49.314983Z"
    },
    "papermill": {
     "duration": 0.012388,
     "end_time": "2023-11-21T07:15:49.317817",
     "exception": false,
     "start_time": "2023-11-21T07:15:49.305429",
     "status": "completed"
    },
    "tags": []
   },
   "outputs": [],
   "source": [
    "class PATHS:\n",
    "    MAIN_DIR = \"/kaggle/input/child-mind-institute-detect-sleep-states/\"\n",
    "    # CSV FILES : \n",
    "    TRAIN_EVENTS = MAIN_DIR + \"train_events.csv\"\n",
    "    # PARQUET FILES:\n",
    "    TRAIN_SERIES = MAIN_DIR + \"train_series.parquet\"\n",
    "    SAVE_DIR = out_dir"
   ]
  },
  {
   "cell_type": "code",
   "execution_count": 5,
   "id": "eddeb312",
   "metadata": {
    "execution": {
     "iopub.execute_input": "2023-11-21T07:15:49.330288Z",
     "iopub.status.busy": "2023-11-21T07:15:49.329650Z",
     "iopub.status.idle": "2023-11-21T07:15:49.338283Z",
     "shell.execute_reply": "2023-11-21T07:15:49.337389Z"
    },
    "papermill": {
     "duration": 0.018101,
     "end_time": "2023-11-21T07:15:49.340656",
     "exception": false,
     "start_time": "2023-11-21T07:15:49.322555",
     "status": "completed"
    },
    "tags": []
   },
   "outputs": [],
   "source": [
    "def preprocess_events(data_path, save_dir):\n",
    "    \"\"\" events.csv \"\"\"\n",
    "    events = pd.read_csv(data_path)\n",
    "    if not exists(join(save_dir, 'id_map.parquet')):\n",
    "        id_map = pd.DataFrame({\"series_id\": events.series_id.unique(),\n",
    "                                \"id_index\": [i for i in range(len(events.series_id.unique()))]})\n",
    "        id_map.id_index = id_map.id_index.astype(np.uint16)\n",
    "        id_map.to_parquet(os.path.join(save_dir,\"id_map.parquet\"), index=False)\n",
    "    id_map = pd.read_parquet(os.path.join(save_dir,\"id_map.parquet\"))\n",
    "    events.dropna(subset=['step'], inplace=True)\n",
    "    # reduce memory size + event re-label\n",
    "    events = events.merge(right=id_map, on=\"series_id\").drop(columns=\"series_id\")\n",
    "    events.step = events.step.astype(np.uint32)\n",
    "    events.night = events.night.astype(np.uint16)\n",
    "#     events.to_csv(os.path.join(save_dir,'preprocessed_events.csv'), index=False)\n",
    "    \n",
    "    return events"
   ]
  },
  {
   "cell_type": "code",
   "execution_count": 6,
   "id": "e3b91d4a",
   "metadata": {
    "execution": {
     "iopub.execute_input": "2023-11-21T07:15:49.352265Z",
     "iopub.status.busy": "2023-11-21T07:15:49.351848Z",
     "iopub.status.idle": "2023-11-21T07:15:49.361768Z",
     "shell.execute_reply": "2023-11-21T07:15:49.360725Z"
    },
    "papermill": {
     "duration": 0.018951,
     "end_time": "2023-11-21T07:15:49.364497",
     "exception": false,
     "start_time": "2023-11-21T07:15:49.345546",
     "status": "completed"
    },
    "tags": []
   },
   "outputs": [],
   "source": [
    "def preprocess_series(data_path, save_dir):\n",
    "    \"\"\" train_series.parquet \"\"\"\n",
    "    # reduce memory\n",
    "    series = pd.read_parquet(data_path)\n",
    "    if not exists(join(save_dir, 'id_map.parquet')):\n",
    "        id_map = pd.DataFrame({\"series_id\": series.series_id.unique(),\n",
    "                                \"id_index\": [i for i in range(len(series.series_id.unique()))]})\n",
    "        id_map.id_index = id_map.id_index.astype(np.uint16)\n",
    "        id_map.to_parquet(os.path.join(save_dir,\"id_map.parquet\"), index=False)\n",
    "    \n",
    "    id_map = pd.read_parquet(os.path.join(save_dir,\"id_map.parquet\"))\n",
    "    series = series.merge(right=id_map, on='series_id').drop(columns='series_id').reset_index()\n",
    "    series.step = series.step.astype(np.uint32)\n",
    "\n",
    "    # normalize enmo and anglez\n",
    "    mean_enmo = series['enmo'].mean()\n",
    "    std_enmo = series['enmo'].std()\n",
    "    series.enmo = (series['enmo'] - mean_enmo)/std_enmo\n",
    "    mean_anglez = series['anglez'].mean()\n",
    "    std_anglez = series['anglez'].std()\n",
    "    series.anglez = (series['anglez'] - mean_anglez)/std_anglez\n",
    "    \n",
    "    series = series.drop(columns='index')\n",
    "#     series.to_parquet(os.path.join(save_dir,'preprocessed_series.parquet'))\n",
    "    \n",
    "    return series"
   ]
  },
  {
   "cell_type": "code",
   "execution_count": 7,
   "id": "5cd7e04f",
   "metadata": {
    "execution": {
     "iopub.execute_input": "2023-11-21T07:15:49.376480Z",
     "iopub.status.busy": "2023-11-21T07:15:49.376063Z",
     "iopub.status.idle": "2023-11-21T07:17:52.129545Z",
     "shell.execute_reply": "2023-11-21T07:17:52.127742Z"
    },
    "papermill": {
     "duration": 122.765176,
     "end_time": "2023-11-21T07:17:52.134811",
     "exception": false,
     "start_time": "2023-11-21T07:15:49.369635",
     "status": "completed"
    },
    "tags": []
   },
   "outputs": [],
   "source": [
    "events = preprocess_events(PATHS.TRAIN_EVENTS, PATHS.SAVE_DIR)\n",
    "series = preprocess_series(PATHS.TRAIN_SERIES, PATHS.SAVE_DIR).drop(columns=['timestamp','step'])\n",
    "ids = pd.read_parquet(os.path.join(PATHS.SAVE_DIR,\"id_map.parquet\"))"
   ]
  },
  {
   "cell_type": "markdown",
   "id": "9e47893c",
   "metadata": {
    "papermill": {
     "duration": 0.004601,
     "end_time": "2023-11-21T07:17:52.146942",
     "exception": false,
     "start_time": "2023-11-21T07:17:52.142341",
     "status": "completed"
    },
    "tags": []
   },
   "source": [
    "# store series with target gaussian\n",
    "\n",
    "- raw form with preprocessed, target gaussian"
   ]
  },
  {
   "cell_type": "code",
   "execution_count": 8,
   "id": "ab26b29e",
   "metadata": {
    "execution": {
     "iopub.execute_input": "2023-11-21T07:17:52.159090Z",
     "iopub.status.busy": "2023-11-21T07:17:52.158617Z",
     "iopub.status.idle": "2023-11-21T07:30:55.247853Z",
     "shell.execute_reply": "2023-11-21T07:30:55.246668Z"
    },
    "papermill": {
     "duration": 783.103073,
     "end_time": "2023-11-21T07:30:55.254778",
     "exception": false,
     "start_time": "2023-11-21T07:17:52.151705",
     "status": "completed"
    },
    "tags": []
   },
   "outputs": [
    {
     "data": {
      "application/vnd.jupyter.widget-view+json": {
       "model_id": "712da133149a446f9f192487ea7bf916",
       "version_major": 2,
       "version_minor": 0
      },
      "text/plain": [
       "  0%|          | 0/277 [00:00<?, ?it/s]"
      ]
     },
     "metadata": {},
     "output_type": "display_data"
    }
   ],
   "source": [
    "def gauss(n=SIGMA,sigma=SIGMA*0.15):\n",
    "    # guassian distribution function\n",
    "    r = range(-int(n/2),int(n/2)+1)  # int는 나머지 버림계산\n",
    "    return [1 / (sigma * sqrt(2*pi)) * exp(-float(x)**2/(2*sigma**2)) for x in r]\n",
    "\n",
    "\n",
    "for cur_id in tqdm(ids.id_index, total=len(ids)):\n",
    "    cur_events = events[events.id_index == cur_id].copy()\n",
    "    cur_series = cur_series=series.loc[series.id_index==cur_id].copy().reset_index(drop=True).drop(columns='id_index')\n",
    "    \n",
    "    # make gaussian\n",
    "    target_gaussian = np.zeros((len(cur_series),2))\n",
    "    for i in range(len(cur_events)):\n",
    "        s = cur_events.iloc[i].step\n",
    "        tar_st=s-SIGMA//2\n",
    "        tar_ed=s+SIGMA//2\n",
    "        if tar_st<0:\n",
    "            gau_st = -(SIGMA//2-s)\n",
    "            tar_st = 0\n",
    "        else:\n",
    "            gau_st=0\n",
    "        if tar_ed>=len(cur_series):\n",
    "            residual = tar_ed-(len(cur_series)-1)\n",
    "            gau_ed=SIGMA-residual\n",
    "            tar_ed=len(cur_series)-1\n",
    "        else:\n",
    "            gau_ed=SIGMA\n",
    "        \n",
    "#         if len(target_gaussian[tar_st:tar_ed,0])!=len(gauss()[gau_st:gau_ed]):\n",
    "#             print(tar_st, tar_ed)\n",
    "#             print(gau_st, gau_ed)\n",
    "#             print(len(target_gaussian[tar_st:tar_ed,0]))\n",
    "#             print(len(gauss()[gau_st:gau_ed]))\n",
    "        if cur_events.iloc[i].event=='onset':\n",
    "            target_gaussian[tar_st:tar_ed,0] = gauss()[gau_st:gau_ed]\n",
    "        if cur_events.iloc[i].event=='wakeup':\n",
    "            target_gaussian[tar_st:tar_ed,1] = gauss()[gau_st:gau_ed]\n",
    "    # normalize target into max value.\n",
    "    target_gaussian /= np.max(target_gaussian + 1e-12)\n",
    "    # append target onto series,\n",
    "    cur_series['onset'] = target_gaussian[:,0]\n",
    "    cur_series['wakeup'] = target_gaussian[:,1]\n",
    "    # save it.\n",
    "    cur_full_id=ids.loc[ids.id_index==cur_id].series_id.item()\n",
    "    cur_series.to_csv(f'{PATHS.SAVE_DIR}/{cur_full_id}_{cur_id}.csv', index=False)"
   ]
  },
  {
   "cell_type": "markdown",
   "id": "067fe51e",
   "metadata": {
    "papermill": {
     "duration": 0.004734,
     "end_time": "2023-11-21T07:30:55.264985",
     "exception": false,
     "start_time": "2023-11-21T07:30:55.260251",
     "status": "completed"
    },
    "tags": []
   },
   "source": [
    "# save"
   ]
  },
  {
   "cell_type": "code",
   "execution_count": 9,
   "id": "8f46d9b3",
   "metadata": {
    "execution": {
     "iopub.execute_input": "2023-11-21T07:30:55.279633Z",
     "iopub.status.busy": "2023-11-21T07:30:55.278386Z",
     "iopub.status.idle": "2023-11-21T07:34:37.871118Z",
     "shell.execute_reply": "2023-11-21T07:34:37.869633Z"
    },
    "papermill": {
     "duration": 222.603384,
     "end_time": "2023-11-21T07:34:37.874020",
     "exception": false,
     "start_time": "2023-11-21T07:30:55.270636",
     "status": "completed"
    },
    "tags": []
   },
   "outputs": [],
   "source": [
    "os.makedirs('./archive', exist_ok=True)\n",
    "shutil.make_archive(f'./archive/data', 'zip', f'{PATHS.SAVE_DIR}')\n",
    "shutil.move(f'./{PATHS.SAVE_DIR}/id_map.parquet', './archive')\n",
    "shutil.rmtree(PATHS.SAVE_DIR)\n",
    "\n",
    "\n",
    "# Creating a dictionary with dummy data for testing\n",
    "data = {\n",
    "    'Name': ['Alice', 'Bob', 'Charlie', 'David', 'Emma'],\n",
    "    'Age': [25, 30, 35, 40, 45],\n",
    "    'City': ['New York', 'San Francisco', 'Los Angeles', 'Chicago', 'Seattle']\n",
    "}\n",
    "\n",
    "a = pd.DataFrame(data)\n",
    "a.to_csv('./archive/dummy.csv')"
   ]
  }
 ],
 "metadata": {
  "kaggle": {
   "accelerator": "none",
   "dataSources": [
    {
     "databundleVersionId": 6589269,
     "sourceId": 53666,
     "sourceType": "competition"
    }
   ],
   "dockerImageVersionId": 30579,
   "isGpuEnabled": false,
   "isInternetEnabled": true,
   "language": "python",
   "sourceType": "notebook"
  },
  "kernelspec": {
   "display_name": "Python 3",
   "language": "python",
   "name": "python3"
  },
  "language_info": {
   "codemirror_mode": {
    "name": "ipython",
    "version": 3
   },
   "file_extension": ".py",
   "mimetype": "text/x-python",
   "name": "python",
   "nbconvert_exporter": "python",
   "pygments_lexer": "ipython3",
   "version": "3.10.12"
  },
  "papermill": {
   "default_parameters": {},
   "duration": 1142.691739,
   "end_time": "2023-11-21T07:34:39.610097",
   "environment_variables": {},
   "exception": null,
   "input_path": "__notebook__.ipynb",
   "output_path": "__notebook__.ipynb",
   "parameters": {},
   "start_time": "2023-11-21T07:15:36.918358",
   "version": "2.4.0"
  },
  "widgets": {
   "application/vnd.jupyter.widget-state+json": {
    "state": {
     "2cba10bee3cd43c8819be02adbcba695": {
      "model_module": "@jupyter-widgets/controls",
      "model_module_version": "1.5.0",
      "model_name": "DescriptionStyleModel",
      "state": {
       "_model_module": "@jupyter-widgets/controls",
       "_model_module_version": "1.5.0",
       "_model_name": "DescriptionStyleModel",
       "_view_count": null,
       "_view_module": "@jupyter-widgets/base",
       "_view_module_version": "1.2.0",
       "_view_name": "StyleView",
       "description_width": ""
      }
     },
     "34fab12d1a694c048ff19d39d2667719": {
      "model_module": "@jupyter-widgets/controls",
      "model_module_version": "1.5.0",
      "model_name": "FloatProgressModel",
      "state": {
       "_dom_classes": [],
       "_model_module": "@jupyter-widgets/controls",
       "_model_module_version": "1.5.0",
       "_model_name": "FloatProgressModel",
       "_view_count": null,
       "_view_module": "@jupyter-widgets/controls",
       "_view_module_version": "1.5.0",
       "_view_name": "ProgressView",
       "bar_style": "success",
       "description": "",
       "description_tooltip": null,
       "layout": "IPY_MODEL_bbd817d94387496dbd7eac91a3d5e686",
       "max": 277.0,
       "min": 0.0,
       "orientation": "horizontal",
       "style": "IPY_MODEL_4e69e7f0eb654c15bea2c694a3ee1e1f",
       "value": 277.0
      }
     },
     "440f4a036f6d4652ab651d93114bdf86": {
      "model_module": "@jupyter-widgets/base",
      "model_module_version": "1.2.0",
      "model_name": "LayoutModel",
      "state": {
       "_model_module": "@jupyter-widgets/base",
       "_model_module_version": "1.2.0",
       "_model_name": "LayoutModel",
       "_view_count": null,
       "_view_module": "@jupyter-widgets/base",
       "_view_module_version": "1.2.0",
       "_view_name": "LayoutView",
       "align_content": null,
       "align_items": null,
       "align_self": null,
       "border": null,
       "bottom": null,
       "display": null,
       "flex": null,
       "flex_flow": null,
       "grid_area": null,
       "grid_auto_columns": null,
       "grid_auto_flow": null,
       "grid_auto_rows": null,
       "grid_column": null,
       "grid_gap": null,
       "grid_row": null,
       "grid_template_areas": null,
       "grid_template_columns": null,
       "grid_template_rows": null,
       "height": null,
       "justify_content": null,
       "justify_items": null,
       "left": null,
       "margin": null,
       "max_height": null,
       "max_width": null,
       "min_height": null,
       "min_width": null,
       "object_fit": null,
       "object_position": null,
       "order": null,
       "overflow": null,
       "overflow_x": null,
       "overflow_y": null,
       "padding": null,
       "right": null,
       "top": null,
       "visibility": null,
       "width": null
      }
     },
     "454b5617f9634e5dab7764753f809f15": {
      "model_module": "@jupyter-widgets/base",
      "model_module_version": "1.2.0",
      "model_name": "LayoutModel",
      "state": {
       "_model_module": "@jupyter-widgets/base",
       "_model_module_version": "1.2.0",
       "_model_name": "LayoutModel",
       "_view_count": null,
       "_view_module": "@jupyter-widgets/base",
       "_view_module_version": "1.2.0",
       "_view_name": "LayoutView",
       "align_content": null,
       "align_items": null,
       "align_self": null,
       "border": null,
       "bottom": null,
       "display": null,
       "flex": null,
       "flex_flow": null,
       "grid_area": null,
       "grid_auto_columns": null,
       "grid_auto_flow": null,
       "grid_auto_rows": null,
       "grid_column": null,
       "grid_gap": null,
       "grid_row": null,
       "grid_template_areas": null,
       "grid_template_columns": null,
       "grid_template_rows": null,
       "height": null,
       "justify_content": null,
       "justify_items": null,
       "left": null,
       "margin": null,
       "max_height": null,
       "max_width": null,
       "min_height": null,
       "min_width": null,
       "object_fit": null,
       "object_position": null,
       "order": null,
       "overflow": null,
       "overflow_x": null,
       "overflow_y": null,
       "padding": null,
       "right": null,
       "top": null,
       "visibility": null,
       "width": null
      }
     },
     "4e69e7f0eb654c15bea2c694a3ee1e1f": {
      "model_module": "@jupyter-widgets/controls",
      "model_module_version": "1.5.0",
      "model_name": "ProgressStyleModel",
      "state": {
       "_model_module": "@jupyter-widgets/controls",
       "_model_module_version": "1.5.0",
       "_model_name": "ProgressStyleModel",
       "_view_count": null,
       "_view_module": "@jupyter-widgets/base",
       "_view_module_version": "1.2.0",
       "_view_name": "StyleView",
       "bar_color": null,
       "description_width": ""
      }
     },
     "68f46e200fba47e7bec482e2273e9670": {
      "model_module": "@jupyter-widgets/controls",
      "model_module_version": "1.5.0",
      "model_name": "DescriptionStyleModel",
      "state": {
       "_model_module": "@jupyter-widgets/controls",
       "_model_module_version": "1.5.0",
       "_model_name": "DescriptionStyleModel",
       "_view_count": null,
       "_view_module": "@jupyter-widgets/base",
       "_view_module_version": "1.2.0",
       "_view_name": "StyleView",
       "description_width": ""
      }
     },
     "712da133149a446f9f192487ea7bf916": {
      "model_module": "@jupyter-widgets/controls",
      "model_module_version": "1.5.0",
      "model_name": "HBoxModel",
      "state": {
       "_dom_classes": [],
       "_model_module": "@jupyter-widgets/controls",
       "_model_module_version": "1.5.0",
       "_model_name": "HBoxModel",
       "_view_count": null,
       "_view_module": "@jupyter-widgets/controls",
       "_view_module_version": "1.5.0",
       "_view_name": "HBoxView",
       "box_style": "",
       "children": [
        "IPY_MODEL_d47e6ee6afe44a749ed1ec620007e1cb",
        "IPY_MODEL_34fab12d1a694c048ff19d39d2667719",
        "IPY_MODEL_b1ef8cf940414f11be39edb355af3361"
       ],
       "layout": "IPY_MODEL_454b5617f9634e5dab7764753f809f15"
      }
     },
     "b1ef8cf940414f11be39edb355af3361": {
      "model_module": "@jupyter-widgets/controls",
      "model_module_version": "1.5.0",
      "model_name": "HTMLModel",
      "state": {
       "_dom_classes": [],
       "_model_module": "@jupyter-widgets/controls",
       "_model_module_version": "1.5.0",
       "_model_name": "HTMLModel",
       "_view_count": null,
       "_view_module": "@jupyter-widgets/controls",
       "_view_module_version": "1.5.0",
       "_view_name": "HTMLView",
       "description": "",
       "description_tooltip": null,
       "layout": "IPY_MODEL_440f4a036f6d4652ab651d93114bdf86",
       "placeholder": "​",
       "style": "IPY_MODEL_2cba10bee3cd43c8819be02adbcba695",
       "value": " 277/277 [13:03&lt;00:00,  3.46s/it]"
      }
     },
     "bbd817d94387496dbd7eac91a3d5e686": {
      "model_module": "@jupyter-widgets/base",
      "model_module_version": "1.2.0",
      "model_name": "LayoutModel",
      "state": {
       "_model_module": "@jupyter-widgets/base",
       "_model_module_version": "1.2.0",
       "_model_name": "LayoutModel",
       "_view_count": null,
       "_view_module": "@jupyter-widgets/base",
       "_view_module_version": "1.2.0",
       "_view_name": "LayoutView",
       "align_content": null,
       "align_items": null,
       "align_self": null,
       "border": null,
       "bottom": null,
       "display": null,
       "flex": null,
       "flex_flow": null,
       "grid_area": null,
       "grid_auto_columns": null,
       "grid_auto_flow": null,
       "grid_auto_rows": null,
       "grid_column": null,
       "grid_gap": null,
       "grid_row": null,
       "grid_template_areas": null,
       "grid_template_columns": null,
       "grid_template_rows": null,
       "height": null,
       "justify_content": null,
       "justify_items": null,
       "left": null,
       "margin": null,
       "max_height": null,
       "max_width": null,
       "min_height": null,
       "min_width": null,
       "object_fit": null,
       "object_position": null,
       "order": null,
       "overflow": null,
       "overflow_x": null,
       "overflow_y": null,
       "padding": null,
       "right": null,
       "top": null,
       "visibility": null,
       "width": null
      }
     },
     "d47e6ee6afe44a749ed1ec620007e1cb": {
      "model_module": "@jupyter-widgets/controls",
      "model_module_version": "1.5.0",
      "model_name": "HTMLModel",
      "state": {
       "_dom_classes": [],
       "_model_module": "@jupyter-widgets/controls",
       "_model_module_version": "1.5.0",
       "_model_name": "HTMLModel",
       "_view_count": null,
       "_view_module": "@jupyter-widgets/controls",
       "_view_module_version": "1.5.0",
       "_view_name": "HTMLView",
       "description": "",
       "description_tooltip": null,
       "layout": "IPY_MODEL_eb60ed3710544163a11e7b0e2101b2fb",
       "placeholder": "​",
       "style": "IPY_MODEL_68f46e200fba47e7bec482e2273e9670",
       "value": "100%"
      }
     },
     "eb60ed3710544163a11e7b0e2101b2fb": {
      "model_module": "@jupyter-widgets/base",
      "model_module_version": "1.2.0",
      "model_name": "LayoutModel",
      "state": {
       "_model_module": "@jupyter-widgets/base",
       "_model_module_version": "1.2.0",
       "_model_name": "LayoutModel",
       "_view_count": null,
       "_view_module": "@jupyter-widgets/base",
       "_view_module_version": "1.2.0",
       "_view_name": "LayoutView",
       "align_content": null,
       "align_items": null,
       "align_self": null,
       "border": null,
       "bottom": null,
       "display": null,
       "flex": null,
       "flex_flow": null,
       "grid_area": null,
       "grid_auto_columns": null,
       "grid_auto_flow": null,
       "grid_auto_rows": null,
       "grid_column": null,
       "grid_gap": null,
       "grid_row": null,
       "grid_template_areas": null,
       "grid_template_columns": null,
       "grid_template_rows": null,
       "height": null,
       "justify_content": null,
       "justify_items": null,
       "left": null,
       "margin": null,
       "max_height": null,
       "max_width": null,
       "min_height": null,
       "min_width": null,
       "object_fit": null,
       "object_position": null,
       "order": null,
       "overflow": null,
       "overflow_x": null,
       "overflow_y": null,
       "padding": null,
       "right": null,
       "top": null,
       "visibility": null,
       "width": null
      }
     }
    },
    "version_major": 2,
    "version_minor": 0
   }
  }
 },
 "nbformat": 4,
 "nbformat_minor": 5
}
