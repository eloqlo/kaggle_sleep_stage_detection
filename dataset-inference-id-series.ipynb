{
 "cells": [
  {
   "cell_type": "markdown",
   "id": "86862559",
   "metadata": {
    "papermill": {
     "duration": 0.004241,
     "end_time": "2023-11-23T03:32:15.256683",
     "exception": false,
     "start_time": "2023-11-23T03:32:15.252442",
     "status": "completed"
    },
    "tags": []
   },
   "source": [
    "## Same as sample dataset,\n",
    "\n",
    "but this return not truncated data.\n",
    "\n",
    "just for fast validation.\n",
    "\n",
    "inference need to do all of these in that notebook."
   ]
  },
  {
   "cell_type": "code",
   "execution_count": 1,
   "id": "4df111da",
   "metadata": {
    "_cell_guid": "b1076dfc-b9ad-4769-8c92-a6c4dae69d19",
    "_uuid": "8f2839f25d086af736a60e9eeb907d3b93b6e0e5",
    "execution": {
     "iopub.execute_input": "2023-11-23T03:32:15.266828Z",
     "iopub.status.busy": "2023-11-23T03:32:15.266357Z",
     "iopub.status.idle": "2023-11-23T03:32:15.276790Z",
     "shell.execute_reply": "2023-11-23T03:32:15.275880Z"
    },
    "papermill": {
     "duration": 0.018411,
     "end_time": "2023-11-23T03:32:15.279237",
     "exception": false,
     "start_time": "2023-11-23T03:32:15.260826",
     "status": "completed"
    },
    "tags": []
   },
   "outputs": [],
   "source": [
    "N_DAYS_PER_SAMPLE = 1\n",
    "FIT_INTO_1DAY = True\n",
    "SEPERATE_FEATURES = True  # Not Used\n",
    "# GENERATE_FEATURES = True # generate in Train torch.data.DataSet for efficiency\n",
    "\n",
    "SIGMA = 720 # target gaussian parameter, 12 * 60"
   ]
  },
  {
   "cell_type": "code",
   "execution_count": 2,
   "id": "1c802c3a",
   "metadata": {
    "execution": {
     "iopub.execute_input": "2023-11-23T03:32:15.288938Z",
     "iopub.status.busy": "2023-11-23T03:32:15.288471Z",
     "iopub.status.idle": "2023-11-23T03:32:23.564232Z",
     "shell.execute_reply": "2023-11-23T03:32:23.562941Z"
    },
    "papermill": {
     "duration": 8.284007,
     "end_time": "2023-11-23T03:32:23.567120",
     "exception": false,
     "start_time": "2023-11-23T03:32:15.283113",
     "status": "completed"
    },
    "tags": []
   },
   "outputs": [],
   "source": [
    "import pandas as pd\n",
    "import numpy as np\n",
    "import gc\n",
    "import time\n",
    "import json\n",
    "from datetime import datetime\n",
    "import matplotlib.pyplot as plt\n",
    "import os\n",
    "from os.path import join, exists\n",
    "import joblib\n",
    "import random\n",
    "import math\n",
    "from tqdm.auto import tqdm \n",
    "import shutil\n",
    "\n",
    "from scipy.interpolate import interp1d\n",
    "\n",
    "from math import pi, sqrt, exp\n",
    "import sklearn,sklearn.model_selection\n",
    "import torch\n",
    "from torch import nn,Tensor\n",
    "import torch.nn.functional as F\n",
    "from torch.utils.data import DataLoader, Dataset, SubsetRandomSampler\n",
    "from sklearn.metrics import average_precision_score\n",
    "from timm.scheduler import CosineLRScheduler\n",
    "plt.style.use(\"ggplot\")\n",
    "\n",
    "from pyarrow.parquet import ParquetFile\n",
    "import pyarrow as pa \n",
    "import ctypes"
   ]
  },
  {
   "cell_type": "code",
   "execution_count": 3,
   "id": "5e77c880",
   "metadata": {
    "execution": {
     "iopub.execute_input": "2023-11-23T03:32:23.576662Z",
     "iopub.status.busy": "2023-11-23T03:32:23.576234Z",
     "iopub.status.idle": "2023-11-23T03:32:23.581538Z",
     "shell.execute_reply": "2023-11-23T03:32:23.580414Z"
    },
    "papermill": {
     "duration": 0.012831,
     "end_time": "2023-11-23T03:32:23.583871",
     "exception": false,
     "start_time": "2023-11-23T03:32:23.571040",
     "status": "completed"
    },
    "tags": []
   },
   "outputs": [],
   "source": [
    "out_dir = \"train_data\"\n",
    "os.makedirs(out_dir, exist_ok = True)"
   ]
  },
  {
   "cell_type": "code",
   "execution_count": 4,
   "id": "fde04eed",
   "metadata": {
    "execution": {
     "iopub.execute_input": "2023-11-23T03:32:23.593188Z",
     "iopub.status.busy": "2023-11-23T03:32:23.592751Z",
     "iopub.status.idle": "2023-11-23T03:32:23.597597Z",
     "shell.execute_reply": "2023-11-23T03:32:23.596593Z"
    },
    "papermill": {
     "duration": 0.012052,
     "end_time": "2023-11-23T03:32:23.599728",
     "exception": false,
     "start_time": "2023-11-23T03:32:23.587676",
     "status": "completed"
    },
    "tags": []
   },
   "outputs": [],
   "source": [
    "class PATHS:\n",
    "    MAIN_DIR = \"/kaggle/input/child-mind-institute-detect-sleep-states/\"\n",
    "    # CSV FILES : \n",
    "    TRAIN_EVENTS = MAIN_DIR + \"train_events.csv\"\n",
    "    # PARQUET FILES:\n",
    "    TRAIN_SERIES = MAIN_DIR + \"train_series.parquet\"\n",
    "    SAVE_DIR = out_dir"
   ]
  },
  {
   "cell_type": "code",
   "execution_count": 5,
   "id": "853a1a08",
   "metadata": {
    "execution": {
     "iopub.execute_input": "2023-11-23T03:32:23.609706Z",
     "iopub.status.busy": "2023-11-23T03:32:23.608854Z",
     "iopub.status.idle": "2023-11-23T03:32:23.617789Z",
     "shell.execute_reply": "2023-11-23T03:32:23.616501Z"
    },
    "papermill": {
     "duration": 0.016579,
     "end_time": "2023-11-23T03:32:23.620119",
     "exception": false,
     "start_time": "2023-11-23T03:32:23.603540",
     "status": "completed"
    },
    "tags": []
   },
   "outputs": [],
   "source": [
    "def preprocess_events(data_path, save_dir):\n",
    "    \"\"\" events.csv \"\"\"\n",
    "    events = pd.read_csv(data_path)\n",
    "    if not exists(join(save_dir, 'id_map.parquet')):\n",
    "        id_map = pd.DataFrame({\"series_id\": events.series_id.unique(),\n",
    "                                \"id_index\": [i for i in range(len(events.series_id.unique()))]})\n",
    "        id_map.id_index = id_map.id_index.astype(np.uint16)\n",
    "        id_map.to_parquet(os.path.join(save_dir,\"id_map.parquet\"), index=False)\n",
    "    id_map = pd.read_parquet(os.path.join(save_dir,\"id_map.parquet\"))\n",
    "    events.dropna(subset=['step'], inplace=True)\n",
    "    # reduce memory size + event re-label\n",
    "    events = events.merge(right=id_map, on=\"series_id\").drop(columns=\"series_id\")\n",
    "    events.step = events.step.astype(np.uint32)\n",
    "    events.night = events.night.astype(np.uint16)\n",
    "#     events.to_csv(os.path.join(save_dir,'preprocessed_events.csv'), index=False)\n",
    "    \n",
    "    return events"
   ]
  },
  {
   "cell_type": "code",
   "execution_count": 6,
   "id": "6b946ec2",
   "metadata": {
    "execution": {
     "iopub.execute_input": "2023-11-23T03:32:23.630573Z",
     "iopub.status.busy": "2023-11-23T03:32:23.629535Z",
     "iopub.status.idle": "2023-11-23T03:32:23.639008Z",
     "shell.execute_reply": "2023-11-23T03:32:23.638001Z"
    },
    "papermill": {
     "duration": 0.017206,
     "end_time": "2023-11-23T03:32:23.641271",
     "exception": false,
     "start_time": "2023-11-23T03:32:23.624065",
     "status": "completed"
    },
    "tags": []
   },
   "outputs": [],
   "source": [
    "def preprocess_series(data_path, save_dir):\n",
    "    \"\"\" train_series.parquet \"\"\"\n",
    "    # reduce memory\n",
    "    series = pd.read_parquet(data_path)\n",
    "    if not exists(join(save_dir, 'id_map.parquet')):\n",
    "        id_map = pd.DataFrame({\"series_id\": series.series_id.unique(),\n",
    "                                \"id_index\": [i for i in range(len(series.series_id.unique()))]})\n",
    "        id_map.id_index = id_map.id_index.astype(np.uint16)\n",
    "        id_map.to_parquet(os.path.join(save_dir,\"id_map.parquet\"), index=False)\n",
    "    \n",
    "    id_map = pd.read_parquet(os.path.join(save_dir,\"id_map.parquet\"))\n",
    "    series = series.merge(right=id_map, on='series_id').drop(columns='series_id').reset_index()\n",
    "    series.step = series.step.astype(np.uint32)\n",
    "\n",
    "    # normalize enmo and anglez\n",
    "    mean_enmo = series['enmo'].mean()\n",
    "    std_enmo = series['enmo'].std()\n",
    "    series.enmo = (series['enmo'] - mean_enmo)/std_enmo\n",
    "    mean_anglez = series['anglez'].mean()\n",
    "    std_anglez = series['anglez'].std()\n",
    "    series.anglez = (series['anglez'] - mean_anglez)/std_anglez\n",
    "    \n",
    "    series = series.drop(columns='index')\n",
    "#     series.to_parquet(os.path.join(save_dir,'preprocessed_series.parquet'))\n",
    "    \n",
    "    return series"
   ]
  },
  {
   "cell_type": "code",
   "execution_count": 7,
   "id": "1b99291d",
   "metadata": {
    "execution": {
     "iopub.execute_input": "2023-11-23T03:32:23.650675Z",
     "iopub.status.busy": "2023-11-23T03:32:23.650249Z",
     "iopub.status.idle": "2023-11-23T03:34:29.317065Z",
     "shell.execute_reply": "2023-11-23T03:34:29.315706Z"
    },
    "papermill": {
     "duration": 125.675037,
     "end_time": "2023-11-23T03:34:29.320156",
     "exception": false,
     "start_time": "2023-11-23T03:32:23.645119",
     "status": "completed"
    },
    "tags": []
   },
   "outputs": [],
   "source": [
    "events = preprocess_events(PATHS.TRAIN_EVENTS, PATHS.SAVE_DIR)\n",
    "series = preprocess_series(PATHS.TRAIN_SERIES, PATHS.SAVE_DIR).drop(columns=['timestamp','step'])\n",
    "ids = pd.read_parquet(os.path.join(PATHS.SAVE_DIR,\"id_map.parquet\"))"
   ]
  },
  {
   "cell_type": "markdown",
   "id": "c8e7d76f",
   "metadata": {
    "papermill": {
     "duration": 0.003545,
     "end_time": "2023-11-23T03:34:29.328115",
     "exception": false,
     "start_time": "2023-11-23T03:34:29.324570",
     "status": "completed"
    },
    "tags": []
   },
   "source": [
    "# store series with target gaussian\n",
    "\n",
    "- raw form with preprocessed, target gaussian"
   ]
  },
  {
   "cell_type": "code",
   "execution_count": 8,
   "id": "ffd1aab5",
   "metadata": {
    "execution": {
     "iopub.execute_input": "2023-11-23T03:34:29.337588Z",
     "iopub.status.busy": "2023-11-23T03:34:29.337162Z",
     "iopub.status.idle": "2023-11-23T03:43:31.744062Z",
     "shell.execute_reply": "2023-11-23T03:43:31.742550Z"
    },
    "papermill": {
     "duration": 542.414659,
     "end_time": "2023-11-23T03:43:31.746525",
     "exception": false,
     "start_time": "2023-11-23T03:34:29.331866",
     "status": "completed"
    },
    "tags": []
   },
   "outputs": [
    {
     "data": {
      "application/vnd.jupyter.widget-view+json": {
       "model_id": "eed4c155637e4e2eaedb9217c53e89ce",
       "version_major": 2,
       "version_minor": 0
      },
      "text/plain": [
       "  0%|          | 0/277 [00:00<?, ?it/s]"
      ]
     },
     "metadata": {},
     "output_type": "display_data"
    }
   ],
   "source": [
    "def gauss(n=SIGMA,sigma=SIGMA*0.15):\n",
    "    # guassian distribution function\n",
    "    r = range(-int(n/2),int(n/2)+1)  # int는 나머지 버림계산\n",
    "    return [1 / (sigma * sqrt(2*pi)) * exp(-float(x)**2/(2*sigma**2)) for x in r]\n",
    "\n",
    "\n",
    "for cur_id in tqdm(ids.id_index, total=len(ids)):\n",
    "    cur_events = events[events.id_index == cur_id].copy()\n",
    "    cur_series = cur_series=series.loc[series.id_index==cur_id].copy().reset_index(drop=True).drop(columns='id_index')\n",
    "    \n",
    "    # make gaussian\n",
    "    target_gaussian = np.zeros((len(cur_series),2))\n",
    "    for i in range(len(cur_events)):\n",
    "        s = cur_events.iloc[i].step\n",
    "        tar_st=s-SIGMA//2\n",
    "        tar_ed=s+SIGMA//2\n",
    "        if tar_st<0:\n",
    "            gau_st = -(SIGMA//2-s)\n",
    "            tar_st = 0\n",
    "        else:\n",
    "            gau_st=0\n",
    "        if tar_ed>=len(cur_series):\n",
    "            residual = tar_ed-(len(cur_series)-1)\n",
    "            gau_ed=SIGMA-residual\n",
    "            tar_ed=len(cur_series)-1\n",
    "        else:\n",
    "            gau_ed=SIGMA\n",
    "        \n",
    "#         if len(target_gaussian[tar_st:tar_ed,0])!=len(gauss()[gau_st:gau_ed]):\n",
    "#             print(tar_st, tar_ed)\n",
    "#             print(gau_st, gau_ed)\n",
    "#             print(len(target_gaussian[tar_st:tar_ed,0]))\n",
    "#             print(len(gauss()[gau_st:gau_ed]))\n",
    "        if cur_events.iloc[i].event=='onset':\n",
    "            target_gaussian[tar_st:tar_ed,0] = gauss()[gau_st:gau_ed]\n",
    "        if cur_events.iloc[i].event=='wakeup':\n",
    "            target_gaussian[tar_st:tar_ed,1] = gauss()[gau_st:gau_ed]\n",
    "    # normalize target into max value.\n",
    "    target_gaussian /= np.max(target_gaussian + 1e-12)\n",
    "    # append target onto series,\n",
    "    cur_series['onset'] = target_gaussian[:,0]\n",
    "    cur_series['wakeup'] = target_gaussian[:,1]\n",
    "    # save it.\n",
    "    cur_series.to_csv(f'{PATHS.SAVE_DIR}/id{cur_id}.csv', index=False)"
   ]
  },
  {
   "cell_type": "markdown",
   "id": "9143f958",
   "metadata": {
    "papermill": {
     "duration": 0.003794,
     "end_time": "2023-11-23T03:43:31.754834",
     "exception": false,
     "start_time": "2023-11-23T03:43:31.751040",
     "status": "completed"
    },
    "tags": []
   },
   "source": [
    "# save"
   ]
  },
  {
   "cell_type": "code",
   "execution_count": 9,
   "id": "14654795",
   "metadata": {
    "execution": {
     "iopub.execute_input": "2023-11-23T03:43:31.764913Z",
     "iopub.status.busy": "2023-11-23T03:43:31.764447Z",
     "iopub.status.idle": "2023-11-23T03:47:18.106217Z",
     "shell.execute_reply": "2023-11-23T03:47:18.103759Z"
    },
    "papermill": {
     "duration": 226.353887,
     "end_time": "2023-11-23T03:47:18.112623",
     "exception": false,
     "start_time": "2023-11-23T03:43:31.758736",
     "status": "completed"
    },
    "tags": []
   },
   "outputs": [],
   "source": [
    "os.makedirs('./archive', exist_ok=True)\n",
    "shutil.make_archive(f'./archive/data', 'zip', f'{PATHS.SAVE_DIR}')\n",
    "shutil.move(f'./{PATHS.SAVE_DIR}/id_map.parquet', './archive')\n",
    "shutil.rmtree(PATHS.SAVE_DIR)\n",
    "\n",
    "\n",
    "# Creating a dictionary with dummy data for testing\n",
    "data = {\n",
    "    'Name': ['Alice', 'Bob', 'Charlie', 'David', 'Emma'],\n",
    "    'Age': [25, 30, 35, 40, 45],\n",
    "    'City': ['New York', 'San Francisco', 'Los Angeles', 'Chicago', 'Seattle']\n",
    "}\n",
    "\n",
    "a = pd.DataFrame(data)\n",
    "a.to_csv('./archive/dummy.csv')"
   ]
  }
 ],
 "metadata": {
  "kaggle": {
   "accelerator": "none",
   "dataSources": [
    {
     "databundleVersionId": 6589269,
     "sourceId": 53666,
     "sourceType": "competition"
    }
   ],
   "dockerImageVersionId": 30579,
   "isGpuEnabled": false,
   "isInternetEnabled": true,
   "language": "python",
   "sourceType": "notebook"
  },
  "kernelspec": {
   "display_name": "Python 3",
   "language": "python",
   "name": "python3"
  },
  "language_info": {
   "codemirror_mode": {
    "name": "ipython",
    "version": 3
   },
   "file_extension": ".py",
   "mimetype": "text/x-python",
   "name": "python",
   "nbconvert_exporter": "python",
   "pygments_lexer": "ipython3",
   "version": "3.10.12"
  },
  "papermill": {
   "default_parameters": {},
   "duration": 909.033776,
   "end_time": "2023-11-23T03:47:20.737919",
   "environment_variables": {},
   "exception": null,
   "input_path": "__notebook__.ipynb",
   "output_path": "__notebook__.ipynb",
   "parameters": {},
   "start_time": "2023-11-23T03:32:11.704143",
   "version": "2.4.0"
  },
  "widgets": {
   "application/vnd.jupyter.widget-state+json": {
    "state": {
     "0120d2cb260344d1bf19ef7f7be950d9": {
      "model_module": "@jupyter-widgets/base",
      "model_module_version": "1.2.0",
      "model_name": "LayoutModel",
      "state": {
       "_model_module": "@jupyter-widgets/base",
       "_model_module_version": "1.2.0",
       "_model_name": "LayoutModel",
       "_view_count": null,
       "_view_module": "@jupyter-widgets/base",
       "_view_module_version": "1.2.0",
       "_view_name": "LayoutView",
       "align_content": null,
       "align_items": null,
       "align_self": null,
       "border": null,
       "bottom": null,
       "display": null,
       "flex": null,
       "flex_flow": null,
       "grid_area": null,
       "grid_auto_columns": null,
       "grid_auto_flow": null,
       "grid_auto_rows": null,
       "grid_column": null,
       "grid_gap": null,
       "grid_row": null,
       "grid_template_areas": null,
       "grid_template_columns": null,
       "grid_template_rows": null,
       "height": null,
       "justify_content": null,
       "justify_items": null,
       "left": null,
       "margin": null,
       "max_height": null,
       "max_width": null,
       "min_height": null,
       "min_width": null,
       "object_fit": null,
       "object_position": null,
       "order": null,
       "overflow": null,
       "overflow_x": null,
       "overflow_y": null,
       "padding": null,
       "right": null,
       "top": null,
       "visibility": null,
       "width": null
      }
     },
     "034417112bae46f7bd6cb0b0e3d65065": {
      "model_module": "@jupyter-widgets/controls",
      "model_module_version": "1.5.0",
      "model_name": "DescriptionStyleModel",
      "state": {
       "_model_module": "@jupyter-widgets/controls",
       "_model_module_version": "1.5.0",
       "_model_name": "DescriptionStyleModel",
       "_view_count": null,
       "_view_module": "@jupyter-widgets/base",
       "_view_module_version": "1.2.0",
       "_view_name": "StyleView",
       "description_width": ""
      }
     },
     "26c4376679e6441ab50b54dde4fe08c9": {
      "model_module": "@jupyter-widgets/controls",
      "model_module_version": "1.5.0",
      "model_name": "HTMLModel",
      "state": {
       "_dom_classes": [],
       "_model_module": "@jupyter-widgets/controls",
       "_model_module_version": "1.5.0",
       "_model_name": "HTMLModel",
       "_view_count": null,
       "_view_module": "@jupyter-widgets/controls",
       "_view_module_version": "1.5.0",
       "_view_name": "HTMLView",
       "description": "",
       "description_tooltip": null,
       "layout": "IPY_MODEL_41adfdfd436244c1aa3cfaadb4fcb375",
       "placeholder": "​",
       "style": "IPY_MODEL_61ae1b90e5524d588900eaf3caa79b18",
       "value": " 277/277 [09:02&lt;00:00,  2.40s/it]"
      }
     },
     "32f00b8ce8794e318ab42eab1fd1f686": {
      "model_module": "@jupyter-widgets/base",
      "model_module_version": "1.2.0",
      "model_name": "LayoutModel",
      "state": {
       "_model_module": "@jupyter-widgets/base",
       "_model_module_version": "1.2.0",
       "_model_name": "LayoutModel",
       "_view_count": null,
       "_view_module": "@jupyter-widgets/base",
       "_view_module_version": "1.2.0",
       "_view_name": "LayoutView",
       "align_content": null,
       "align_items": null,
       "align_self": null,
       "border": null,
       "bottom": null,
       "display": null,
       "flex": null,
       "flex_flow": null,
       "grid_area": null,
       "grid_auto_columns": null,
       "grid_auto_flow": null,
       "grid_auto_rows": null,
       "grid_column": null,
       "grid_gap": null,
       "grid_row": null,
       "grid_template_areas": null,
       "grid_template_columns": null,
       "grid_template_rows": null,
       "height": null,
       "justify_content": null,
       "justify_items": null,
       "left": null,
       "margin": null,
       "max_height": null,
       "max_width": null,
       "min_height": null,
       "min_width": null,
       "object_fit": null,
       "object_position": null,
       "order": null,
       "overflow": null,
       "overflow_x": null,
       "overflow_y": null,
       "padding": null,
       "right": null,
       "top": null,
       "visibility": null,
       "width": null
      }
     },
     "41adfdfd436244c1aa3cfaadb4fcb375": {
      "model_module": "@jupyter-widgets/base",
      "model_module_version": "1.2.0",
      "model_name": "LayoutModel",
      "state": {
       "_model_module": "@jupyter-widgets/base",
       "_model_module_version": "1.2.0",
       "_model_name": "LayoutModel",
       "_view_count": null,
       "_view_module": "@jupyter-widgets/base",
       "_view_module_version": "1.2.0",
       "_view_name": "LayoutView",
       "align_content": null,
       "align_items": null,
       "align_self": null,
       "border": null,
       "bottom": null,
       "display": null,
       "flex": null,
       "flex_flow": null,
       "grid_area": null,
       "grid_auto_columns": null,
       "grid_auto_flow": null,
       "grid_auto_rows": null,
       "grid_column": null,
       "grid_gap": null,
       "grid_row": null,
       "grid_template_areas": null,
       "grid_template_columns": null,
       "grid_template_rows": null,
       "height": null,
       "justify_content": null,
       "justify_items": null,
       "left": null,
       "margin": null,
       "max_height": null,
       "max_width": null,
       "min_height": null,
       "min_width": null,
       "object_fit": null,
       "object_position": null,
       "order": null,
       "overflow": null,
       "overflow_x": null,
       "overflow_y": null,
       "padding": null,
       "right": null,
       "top": null,
       "visibility": null,
       "width": null
      }
     },
     "54f62a9789aa41f8aee6123327153dc1": {
      "model_module": "@jupyter-widgets/controls",
      "model_module_version": "1.5.0",
      "model_name": "FloatProgressModel",
      "state": {
       "_dom_classes": [],
       "_model_module": "@jupyter-widgets/controls",
       "_model_module_version": "1.5.0",
       "_model_name": "FloatProgressModel",
       "_view_count": null,
       "_view_module": "@jupyter-widgets/controls",
       "_view_module_version": "1.5.0",
       "_view_name": "ProgressView",
       "bar_style": "success",
       "description": "",
       "description_tooltip": null,
       "layout": "IPY_MODEL_5e693fcfdba1441f8e9dd40954f35ea3",
       "max": 277.0,
       "min": 0.0,
       "orientation": "horizontal",
       "style": "IPY_MODEL_67029ab5c6f94360a2146b7323654080",
       "value": 277.0
      }
     },
     "5a84ed81d3be4b21bfab826a3d6418e6": {
      "model_module": "@jupyter-widgets/controls",
      "model_module_version": "1.5.0",
      "model_name": "HTMLModel",
      "state": {
       "_dom_classes": [],
       "_model_module": "@jupyter-widgets/controls",
       "_model_module_version": "1.5.0",
       "_model_name": "HTMLModel",
       "_view_count": null,
       "_view_module": "@jupyter-widgets/controls",
       "_view_module_version": "1.5.0",
       "_view_name": "HTMLView",
       "description": "",
       "description_tooltip": null,
       "layout": "IPY_MODEL_32f00b8ce8794e318ab42eab1fd1f686",
       "placeholder": "​",
       "style": "IPY_MODEL_034417112bae46f7bd6cb0b0e3d65065",
       "value": "100%"
      }
     },
     "5e693fcfdba1441f8e9dd40954f35ea3": {
      "model_module": "@jupyter-widgets/base",
      "model_module_version": "1.2.0",
      "model_name": "LayoutModel",
      "state": {
       "_model_module": "@jupyter-widgets/base",
       "_model_module_version": "1.2.0",
       "_model_name": "LayoutModel",
       "_view_count": null,
       "_view_module": "@jupyter-widgets/base",
       "_view_module_version": "1.2.0",
       "_view_name": "LayoutView",
       "align_content": null,
       "align_items": null,
       "align_self": null,
       "border": null,
       "bottom": null,
       "display": null,
       "flex": null,
       "flex_flow": null,
       "grid_area": null,
       "grid_auto_columns": null,
       "grid_auto_flow": null,
       "grid_auto_rows": null,
       "grid_column": null,
       "grid_gap": null,
       "grid_row": null,
       "grid_template_areas": null,
       "grid_template_columns": null,
       "grid_template_rows": null,
       "height": null,
       "justify_content": null,
       "justify_items": null,
       "left": null,
       "margin": null,
       "max_height": null,
       "max_width": null,
       "min_height": null,
       "min_width": null,
       "object_fit": null,
       "object_position": null,
       "order": null,
       "overflow": null,
       "overflow_x": null,
       "overflow_y": null,
       "padding": null,
       "right": null,
       "top": null,
       "visibility": null,
       "width": null
      }
     },
     "61ae1b90e5524d588900eaf3caa79b18": {
      "model_module": "@jupyter-widgets/controls",
      "model_module_version": "1.5.0",
      "model_name": "DescriptionStyleModel",
      "state": {
       "_model_module": "@jupyter-widgets/controls",
       "_model_module_version": "1.5.0",
       "_model_name": "DescriptionStyleModel",
       "_view_count": null,
       "_view_module": "@jupyter-widgets/base",
       "_view_module_version": "1.2.0",
       "_view_name": "StyleView",
       "description_width": ""
      }
     },
     "67029ab5c6f94360a2146b7323654080": {
      "model_module": "@jupyter-widgets/controls",
      "model_module_version": "1.5.0",
      "model_name": "ProgressStyleModel",
      "state": {
       "_model_module": "@jupyter-widgets/controls",
       "_model_module_version": "1.5.0",
       "_model_name": "ProgressStyleModel",
       "_view_count": null,
       "_view_module": "@jupyter-widgets/base",
       "_view_module_version": "1.2.0",
       "_view_name": "StyleView",
       "bar_color": null,
       "description_width": ""
      }
     },
     "eed4c155637e4e2eaedb9217c53e89ce": {
      "model_module": "@jupyter-widgets/controls",
      "model_module_version": "1.5.0",
      "model_name": "HBoxModel",
      "state": {
       "_dom_classes": [],
       "_model_module": "@jupyter-widgets/controls",
       "_model_module_version": "1.5.0",
       "_model_name": "HBoxModel",
       "_view_count": null,
       "_view_module": "@jupyter-widgets/controls",
       "_view_module_version": "1.5.0",
       "_view_name": "HBoxView",
       "box_style": "",
       "children": [
        "IPY_MODEL_5a84ed81d3be4b21bfab826a3d6418e6",
        "IPY_MODEL_54f62a9789aa41f8aee6123327153dc1",
        "IPY_MODEL_26c4376679e6441ab50b54dde4fe08c9"
       ],
       "layout": "IPY_MODEL_0120d2cb260344d1bf19ef7f7be950d9"
      }
     }
    },
    "version_major": 2,
    "version_minor": 0
   }
  }
 },
 "nbformat": 4,
 "nbformat_minor": 5
}
