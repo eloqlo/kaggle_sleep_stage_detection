{
 "cells": [
  {
   "cell_type": "markdown",
   "id": "67411663",
   "metadata": {
    "papermill": {
     "duration": 0.007031,
     "end_time": "2023-11-21T04:59:14.550633",
     "exception": false,
     "start_time": "2023-11-21T04:59:14.543602",
     "status": "completed"
    },
    "tags": []
   },
   "source": [
    "Credits:\n",
    "\n",
    "- https://www.kaggle.com/code/itsuki9180/detect-sleep-states-dataprepare  \n",
    "- https://www.kaggle.com/code/werus23/sleep-critical-point-prepare-data\n",
    "\n",
    "GO TO:\n",
    "Data Preparation - this\n",
    "TRAIN - https://www.kaggle.com/code/jhjh97/transformer-train\n",
    "INFERENCE - Not Yet\n",
    "\n",
    "This does:\n",
    "- Save preprocessed gaussian outputs according to following parameters `N_DAYS_PER_SAMPLE`, `SEPERATE_FEATURES`.\n",
    "- `N_DAYS_PER_SAMPLE`(int) is how many days you like to windowing for model.\n",
    "- `SEPERATE_FEATURES`(bool) whether you split your data for seperated model.\n",
    "- `SIGMA` for gaussian sigma value(std). more smaller SIGMA is, more sharper distribution gets."
   ]
  },
  {
   "cell_type": "markdown",
   "id": "66b6ad1d",
   "metadata": {
    "papermill": {
     "duration": 0.006878,
     "end_time": "2023-11-21T04:59:14.566611",
     "exception": false,
     "start_time": "2023-11-21T04:59:14.559733",
     "status": "completed"
    },
    "tags": []
   },
   "source": [
    "## Ver1.1"
   ]
  },
  {
   "cell_type": "markdown",
   "id": "352ae6ca",
   "metadata": {
    "papermill": {
     "duration": 0.006602,
     "end_time": "2023-11-21T04:59:14.580506",
     "exception": false,
     "start_time": "2023-11-21T04:59:14.573904",
     "status": "completed"
    },
    "tags": []
   },
   "source": [
    "- Split hard sample and easy samples\n",
    "- enmo + anglez"
   ]
  },
  {
   "cell_type": "code",
   "execution_count": 1,
   "id": "56572b19",
   "metadata": {
    "_cell_guid": "b1076dfc-b9ad-4769-8c92-a6c4dae69d19",
    "_uuid": "8f2839f25d086af736a60e9eeb907d3b93b6e0e5",
    "execution": {
     "iopub.execute_input": "2023-11-21T04:59:14.596288Z",
     "iopub.status.busy": "2023-11-21T04:59:14.595416Z",
     "iopub.status.idle": "2023-11-21T04:59:14.608276Z",
     "shell.execute_reply": "2023-11-21T04:59:14.607329Z"
    },
    "papermill": {
     "duration": 0.023775,
     "end_time": "2023-11-21T04:59:14.611019",
     "exception": false,
     "start_time": "2023-11-21T04:59:14.587244",
     "status": "completed"
    },
    "tags": []
   },
   "outputs": [],
   "source": [
    "N_DAYS_PER_SAMPLE = 3\n",
    "FIT_INTO_1DAY = True\n",
    "SEPERATE_FEATURES = True  # Not Used\n",
    "\n",
    "SIGMA = 720 # target gaussian parameter, 12 * 60"
   ]
  },
  {
   "cell_type": "code",
   "execution_count": 2,
   "id": "9b0978f9",
   "metadata": {
    "execution": {
     "iopub.execute_input": "2023-11-21T04:59:14.626652Z",
     "iopub.status.busy": "2023-11-21T04:59:14.626223Z",
     "iopub.status.idle": "2023-11-21T04:59:23.451914Z",
     "shell.execute_reply": "2023-11-21T04:59:23.450367Z"
    },
    "papermill": {
     "duration": 8.837596,
     "end_time": "2023-11-21T04:59:23.455468",
     "exception": false,
     "start_time": "2023-11-21T04:59:14.617872",
     "status": "completed"
    },
    "tags": []
   },
   "outputs": [],
   "source": [
    "import pandas as pd\n",
    "import numpy as np\n",
    "import gc\n",
    "import time\n",
    "import json\n",
    "from datetime import datetime\n",
    "import matplotlib.pyplot as plt\n",
    "import os\n",
    "from os.path import join, exists\n",
    "import joblib\n",
    "import random\n",
    "import math\n",
    "from tqdm.auto import tqdm \n",
    "import shutil\n",
    "\n",
    "from scipy.interpolate import interp1d\n",
    "\n",
    "from math import pi, sqrt, exp\n",
    "import sklearn,sklearn.model_selection\n",
    "import torch\n",
    "from torch import nn,Tensor\n",
    "import torch.nn.functional as F\n",
    "from torch.utils.data import DataLoader, Dataset, SubsetRandomSampler\n",
    "from sklearn.metrics import average_precision_score\n",
    "from timm.scheduler import CosineLRScheduler\n",
    "plt.style.use(\"ggplot\")\n",
    "\n",
    "from pyarrow.parquet import ParquetFile\n",
    "import pyarrow as pa \n",
    "import ctypes"
   ]
  },
  {
   "cell_type": "code",
   "execution_count": 3,
   "id": "c0542c44",
   "metadata": {
    "execution": {
     "iopub.execute_input": "2023-11-21T04:59:23.473483Z",
     "iopub.status.busy": "2023-11-21T04:59:23.472991Z",
     "iopub.status.idle": "2023-11-21T04:59:23.479953Z",
     "shell.execute_reply": "2023-11-21T04:59:23.478362Z"
    },
    "papermill": {
     "duration": 0.018372,
     "end_time": "2023-11-21T04:59:23.482643",
     "exception": false,
     "start_time": "2023-11-21T04:59:23.464271",
     "status": "completed"
    },
    "tags": []
   },
   "outputs": [],
   "source": [
    "out_dir = \"train_data\"\n",
    "os.makedirs(out_dir, exist_ok = True)"
   ]
  },
  {
   "cell_type": "code",
   "execution_count": 4,
   "id": "63e86810",
   "metadata": {
    "execution": {
     "iopub.execute_input": "2023-11-21T04:59:23.499187Z",
     "iopub.status.busy": "2023-11-21T04:59:23.498334Z",
     "iopub.status.idle": "2023-11-21T04:59:23.504866Z",
     "shell.execute_reply": "2023-11-21T04:59:23.503718Z"
    },
    "papermill": {
     "duration": 0.017757,
     "end_time": "2023-11-21T04:59:23.507212",
     "exception": false,
     "start_time": "2023-11-21T04:59:23.489455",
     "status": "completed"
    },
    "tags": []
   },
   "outputs": [],
   "source": [
    "class PATHS:\n",
    "    MAIN_DIR = \"/kaggle/input/child-mind-institute-detect-sleep-states/\"\n",
    "    # CSV FILES : \n",
    "    TRAIN_EVENTS = MAIN_DIR + \"train_events.csv\"\n",
    "    # PARQUET FILES:\n",
    "    TRAIN_SERIES = MAIN_DIR + \"train_series.parquet\"\n",
    "    SAVE_DIR = out_dir"
   ]
  },
  {
   "cell_type": "code",
   "execution_count": 5,
   "id": "e1826297",
   "metadata": {
    "execution": {
     "iopub.execute_input": "2023-11-21T04:59:23.524727Z",
     "iopub.status.busy": "2023-11-21T04:59:23.523798Z",
     "iopub.status.idle": "2023-11-21T04:59:23.533898Z",
     "shell.execute_reply": "2023-11-21T04:59:23.532315Z"
    },
    "papermill": {
     "duration": 0.022376,
     "end_time": "2023-11-21T04:59:23.537133",
     "exception": false,
     "start_time": "2023-11-21T04:59:23.514757",
     "status": "completed"
    },
    "tags": []
   },
   "outputs": [],
   "source": [
    "def preprocess_events(data_path, save_dir):\n",
    "    \"\"\" events.csv \"\"\"\n",
    "    events = pd.read_csv(data_path)\n",
    "    if not exists(join(save_dir, 'id_map.parquet')):\n",
    "        id_map = pd.DataFrame({\"series_id\": events.series_id.unique(),\n",
    "                                \"id_index\": [i for i in range(len(events.series_id.unique()))]})\n",
    "        id_map.id_index = id_map.id_index.astype(np.uint16)\n",
    "        id_map.to_parquet(os.path.join(save_dir,\"id_map.parquet\"), index=False)\n",
    "    id_map = pd.read_parquet(os.path.join(save_dir,\"id_map.parquet\"))\n",
    "    events.dropna(subset=['step'], inplace=True)\n",
    "    # reduce memory size + event re-label\n",
    "    events = events.merge(right=id_map, on=\"series_id\").drop(columns=\"series_id\")\n",
    "    events.step = events.step.astype(np.uint32)\n",
    "    events.night = events.night.astype(np.uint16)\n",
    "#     events.to_csv(os.path.join(save_dir,'preprocessed_events.csv'), index=False)\n",
    "    \n",
    "    return events"
   ]
  },
  {
   "cell_type": "code",
   "execution_count": 6,
   "id": "7ae87ae0",
   "metadata": {
    "execution": {
     "iopub.execute_input": "2023-11-21T04:59:23.553200Z",
     "iopub.status.busy": "2023-11-21T04:59:23.552771Z",
     "iopub.status.idle": "2023-11-21T04:59:23.565300Z",
     "shell.execute_reply": "2023-11-21T04:59:23.563950Z"
    },
    "papermill": {
     "duration": 0.024207,
     "end_time": "2023-11-21T04:59:23.568157",
     "exception": false,
     "start_time": "2023-11-21T04:59:23.543950",
     "status": "completed"
    },
    "tags": []
   },
   "outputs": [],
   "source": [
    "def preprocess_series(data_path, save_dir):\n",
    "    \"\"\" train_series.parquet \"\"\"\n",
    "    # reduce memory\n",
    "    series = pd.read_parquet(data_path)\n",
    "    if not exists(join(save_dir, 'id_map.parquet')):\n",
    "        id_map = pd.DataFrame({\"series_id\": series.series_id.unique(),\n",
    "                                \"id_index\": [i for i in range(len(series.series_id.unique()))]})\n",
    "        id_map.id_index = id_map.id_index.astype(np.uint16)\n",
    "        id_map.to_parquet(os.path.join(save_dir,\"id_map.parquet\"), index=False)\n",
    "    \n",
    "    id_map = pd.read_parquet(os.path.join(save_dir,\"id_map.parquet\"))\n",
    "    series = series.merge(right=id_map, on='series_id').drop(columns='series_id').reset_index()\n",
    "    series.step = series.step.astype(np.uint32)\n",
    "\n",
    "    # normalize enmo and anglez\n",
    "    mean_enmo = series['enmo'].mean()\n",
    "    std_enmo = series['enmo'].std()\n",
    "    series.enmo = (series['enmo'] - mean_enmo)/std_enmo\n",
    "    mean_anglez = series['anglez'].mean()\n",
    "    std_anglez = series['anglez'].std()\n",
    "    series.anglez = (series['anglez'] - mean_anglez)/std_anglez\n",
    "    \n",
    "    series = series.drop(columns='index')\n",
    "#     series.to_parquet(os.path.join(save_dir,'preprocessed_series.parquet'))\n",
    "    \n",
    "    return series"
   ]
  },
  {
   "cell_type": "code",
   "execution_count": 7,
   "id": "84dba23a",
   "metadata": {
    "execution": {
     "iopub.execute_input": "2023-11-21T04:59:23.585686Z",
     "iopub.status.busy": "2023-11-21T04:59:23.585279Z",
     "iopub.status.idle": "2023-11-21T05:01:38.523189Z",
     "shell.execute_reply": "2023-11-21T05:01:38.520327Z"
    },
    "papermill": {
     "duration": 134.954533,
     "end_time": "2023-11-21T05:01:38.530267",
     "exception": false,
     "start_time": "2023-11-21T04:59:23.575734",
     "status": "completed"
    },
    "tags": []
   },
   "outputs": [],
   "source": [
    "# must process events first.\n",
    "events = preprocess_events(PATHS.TRAIN_EVENTS, PATHS.SAVE_DIR)\n",
    "series = preprocess_series(PATHS.TRAIN_SERIES, PATHS.SAVE_DIR)"
   ]
  },
  {
   "cell_type": "markdown",
   "id": "5ccc172f",
   "metadata": {
    "papermill": {
     "duration": 0.007629,
     "end_time": "2023-11-21T05:01:38.548217",
     "exception": false,
     "start_time": "2023-11-21T05:01:38.540588",
     "status": "completed"
    },
    "tags": []
   },
   "source": [
    "converting evetns into gaussian target numpy array."
   ]
  },
  {
   "cell_type": "code",
   "execution_count": 8,
   "id": "3b7f94c8",
   "metadata": {
    "execution": {
     "iopub.execute_input": "2023-11-21T05:01:38.566955Z",
     "iopub.status.busy": "2023-11-21T05:01:38.566368Z",
     "iopub.status.idle": "2023-11-21T05:01:38.575990Z",
     "shell.execute_reply": "2023-11-21T05:01:38.574797Z"
    },
    "papermill": {
     "duration": 0.022879,
     "end_time": "2023-11-21T05:01:38.578521",
     "exception": false,
     "start_time": "2023-11-21T05:01:38.555642",
     "status": "completed"
    },
    "tags": []
   },
   "outputs": [],
   "source": [
    "def gauss(n=SIGMA,sigma=SIGMA*0.15):\n",
    "    # guassian distribution function\n",
    "    r = range(-int(n/2),int(n/2)+1)  # int는 나머지 버림계산\n",
    "    return [1 / (sigma * sqrt(2*pi)) * exp(-float(x)**2/(2*sigma**2)) for x in r]"
   ]
  },
  {
   "cell_type": "code",
   "execution_count": 9,
   "id": "a891a2c8",
   "metadata": {
    "execution": {
     "iopub.execute_input": "2023-11-21T05:01:38.595565Z",
     "iopub.status.busy": "2023-11-21T05:01:38.594740Z",
     "iopub.status.idle": "2023-11-21T05:01:38.603918Z",
     "shell.execute_reply": "2023-11-21T05:01:38.602424Z"
    },
    "papermill": {
     "duration": 0.020761,
     "end_time": "2023-11-21T05:01:38.606626",
     "exception": false,
     "start_time": "2023-11-21T05:01:38.585865",
     "status": "completed"
    },
    "tags": []
   },
   "outputs": [],
   "source": [
    "def get_pad_amount(series):\n",
    "    # For fitting data into 24 hours cycle, get how much series need to be zero_padded for front and end.\n",
    "    # 0.4145 secs\n",
    "    f_h=series.timestamp.dt.hour[0]\n",
    "    f_m=series.timestamp.dt.minute[0]\n",
    "    f_s=series.timestamp.dt.second[0]\n",
    "    r_h=list(series.timestamp.dt.hour)[-1]\n",
    "    r_m=list(series.timestamp.dt.minute)[-1]\n",
    "    r_s=list(series.timestamp.dt.second)[-1]\n",
    "    \n",
    "    # calc how many steps first data is apart from 0:00:00.\n",
    "    front = f_s//5 + f_m*12 + f_h*(12*60)\n",
    "    if front>0:\n",
    "        front -= 1\n",
    "    \n",
    "    # calc how many steps rear data is apart from 23:59:55\n",
    "    max_step = 24*60*12\n",
    "    end = max_step - (r_s//5 + r_m*12 + r_h*(12*60))\n",
    "    \n",
    "    return front, end"
   ]
  },
  {
   "cell_type": "markdown",
   "id": "7778ed10",
   "metadata": {
    "papermill": {
     "duration": 0.007664,
     "end_time": "2023-11-21T05:01:38.621853",
     "exception": false,
     "start_time": "2023-11-21T05:01:38.614189",
     "status": "completed"
    },
    "tags": []
   },
   "source": [
    "# New 2"
   ]
  },
  {
   "cell_type": "markdown",
   "id": "8970b27a",
   "metadata": {
    "papermill": {
     "duration": 0.00733,
     "end_time": "2023-11-21T05:01:38.635861",
     "exception": false,
     "start_time": "2023-11-21T05:01:38.628531",
     "status": "completed"
    },
    "tags": []
   },
   "source": [
    "### can i reduce data size? -> Y\n",
    "\n",
    "- 어차피 conv 계열만 쓰기에, X 임베딩을 0-24로 맞출 필요가 없음.\n",
    "- 하지만, 잠들기 전 후로 데이터에 증거가 많이 남아있을 것 같음. 그래서 (전날 오후 6시 ~ 당일 ~ 다음날 오전 6시)로 시간을 맞춰줄 예정. \n",
    "- 24+6+6=36시간 = 25920, /60=432  \n",
    "\n",
    "#### easy, hard(unlabelded)로 나눠주기\n",
    "\n",
    "- 일단 easy로 학습시키고 모델이 얼마나 잘 성능 나오는지 보고싶음\n",
    "- easy(train,val), mixed(train,val), hard(tarin,val)\n",
    "- 기준은 하루동안 label이 없으면 hard example"
   ]
  },
  {
   "cell_type": "code",
   "execution_count": 10,
   "id": "3f9bcaa7",
   "metadata": {
    "execution": {
     "iopub.execute_input": "2023-11-21T05:01:38.652909Z",
     "iopub.status.busy": "2023-11-21T05:01:38.651752Z",
     "iopub.status.idle": "2023-11-21T06:07:38.655563Z",
     "shell.execute_reply": "2023-11-21T06:07:38.654361Z"
    },
    "papermill": {
     "duration": 3960.022212,
     "end_time": "2023-11-21T06:07:38.665151",
     "exception": false,
     "start_time": "2023-11-21T05:01:38.642939",
     "status": "completed"
    },
    "tags": []
   },
   "outputs": [
    {
     "data": {
      "application/vnd.jupyter.widget-view+json": {
       "model_id": "6d791e64618547f7b7109d97aae25146",
       "version_major": 2,
       "version_minor": 0
      },
      "text/plain": [
       "  0%|          | 0/277 [00:00<?, ?it/s]"
      ]
     },
     "metadata": {},
     "output_type": "display_data"
    }
   ],
   "source": [
    "data_counter=0\n",
    "enmo_x=[]\n",
    "enmo_y=[]\n",
    "attach_hours=6\n",
    "ids = pd.read_parquet(os.path.join(PATHS.SAVE_DIR,\"id_map.parquet\"))\n",
    "\n",
    "if SEPERATE_FEATURES:\n",
    "    os.makedirs(PATHS.SAVE_DIR+'/hard', exist_ok = True)\n",
    "    os.makedirs(PATHS.SAVE_DIR+'/fine', exist_ok = True)\n",
    "\n",
    "# for ids, make \"series + target_gaussian\" vector and store them ids by ids.\n",
    "for cur_id in tqdm(ids.id_index, total=len(ids)):\n",
    "    cur_targets = []\n",
    "    cur_events = events[events.id_index == cur_id].copy()\n",
    "    cur_series = series.loc[(series.id_index == cur_id)].copy().reset_index(drop=True)\n",
    "    cur_series['timestamp'] = pd.to_datetime(cur_series.timestamp,format = '%Y-%m-%dT%H:%M:%S%z').astype(\"datetime64[ns, UTC-04:00]\")\n",
    "    \n",
    "    # calculate how many steps needed to pad for each series\n",
    "    front, end = get_pad_amount(cur_series)\n",
    "    cur_events.step += front\n",
    "    total_len = len(cur_series)+front+end\n",
    "    target_gaussian = np.zeros((total_len,2))  # onset:0, wakeup:1\n",
    "    for i in range(len(cur_events)):\n",
    "        s=cur_events.iloc[i].step\n",
    "        gau_st = max(SIGMA//2-s, 0)\n",
    "        gau_ed = SIGMA+(SIGMA+1)%2+1 - max(s+SIGMA//2-(len(target_gaussian)-1), 0)\n",
    "        tar_st = max(0, s-SIGMA//2)\n",
    "        tar_ed = min(len(target_gaussian), s+SIGMA//2+1)\n",
    "        if cur_events.iloc[i].event=='onset':\n",
    "            target_gaussian[tar_st:tar_ed,0] = gauss()[gau_st:gau_ed]\n",
    "        if cur_events.iloc[i].event=='wakeup':\n",
    "            target_gaussian[tar_st:tar_ed,1] = gauss()[gau_st:gau_ed]\n",
    "\n",
    "    # zero padding for series\n",
    "    cur_series = cur_series.drop(columns=['id_index','step','timestamp'])\n",
    "    zero_pad_front = pd.DataFrame({'anglez':[0 for _ in range(front)], 'enmo':[0 for _ in range(front)]}, dtype=np.float32)\n",
    "    zero_pad_end = pd.DataFrame({'anglez':[0 for _ in range(end)], 'enmo':[0 for _ in range(end)]}, dtype=np.float32)\n",
    "    cur_series = pd.concat([zero_pad_front, cur_series, zero_pad_end], ignore_index=True)\n",
    "    del zero_pad_front, zero_pad_end\n",
    "    gc.collect()\n",
    "    \n",
    "    # normalize target into max value.\n",
    "    target_gaussian /= np.max(target_gaussian + 1e-12)\n",
    "    \n",
    "    # append target onto series,\n",
    "    cur_series['onset'] = target_gaussian[:,0]\n",
    "    cur_series['wakeup'] = target_gaussian[:,1]\n",
    "    \n",
    "    # save it into croped size\n",
    "    one_day_steps = (24*60*12)\n",
    "    cur_series_days = len(cur_series)//one_day_steps\n",
    "    for i in range(cur_series_days - N_DAYS_PER_SAMPLE + 1):\n",
    "        st = i*one_day_steps\n",
    "        ed = (i+N_DAYS_PER_SAMPLE)*one_day_steps\n",
    "        st2=(24-attach_hours)*60*12\n",
    "        ed2=-(24-attach_hours)*60*12\n",
    "        \n",
    "        sample = cur_series[st:ed][st2:ed2]\n",
    "        if sum(sample['onset'])==0.0 and sum(sample['wakeup'])==0.0:\n",
    "            sample.to_csv(f'{PATHS.SAVE_DIR}/hard/id{cur_id}_{data_counter}.csv', index=False)\n",
    "        else:\n",
    "            # onset, wakeup 하나라도 있으면 fine에 저장\n",
    "            sample.to_csv(f'{PATHS.SAVE_DIR}/fine/id{cur_id}_{data_counter}.csv', index=False)\n",
    "        data_counter+=1\n",
    "    del cur_series, cur_events, target_gaussian, sample\n",
    "    gc.collect()"
   ]
  },
  {
   "cell_type": "markdown",
   "id": "53757bdd",
   "metadata": {
    "papermill": {
     "duration": 0.006539,
     "end_time": "2023-11-21T06:07:38.679031",
     "exception": false,
     "start_time": "2023-11-21T06:07:38.672492",
     "status": "completed"
    },
    "tags": []
   },
   "source": [
    "## dir move"
   ]
  },
  {
   "cell_type": "code",
   "execution_count": 11,
   "id": "3b8b3aef",
   "metadata": {
    "execution": {
     "iopub.execute_input": "2023-11-21T06:07:38.695039Z",
     "iopub.status.busy": "2023-11-21T06:07:38.694649Z",
     "iopub.status.idle": "2023-11-21T06:07:38.703920Z",
     "shell.execute_reply": "2023-11-21T06:07:38.703169Z"
    },
    "papermill": {
     "duration": 0.01999,
     "end_time": "2023-11-21T06:07:38.706246",
     "exception": false,
     "start_time": "2023-11-21T06:07:38.686256",
     "status": "completed"
    },
    "tags": []
   },
   "outputs": [],
   "source": [
    "# Zip file. Because amount of data is over 50.\n",
    "shutil.move(f'{PATHS.SAVE_DIR}/id_map.parquet', './')\n",
    "events[:3].copy().to_csv('./dummy.csv')"
   ]
  },
  {
   "cell_type": "code",
   "execution_count": 12,
   "id": "9720c688",
   "metadata": {
    "execution": {
     "iopub.execute_input": "2023-11-21T06:07:38.720924Z",
     "iopub.status.busy": "2023-11-21T06:07:38.720506Z",
     "iopub.status.idle": "2023-11-21T06:12:44.408272Z",
     "shell.execute_reply": "2023-11-21T06:12:44.407167Z"
    },
    "papermill": {
     "duration": 305.698264,
     "end_time": "2023-11-21T06:12:44.410965",
     "exception": false,
     "start_time": "2023-11-21T06:07:38.712701",
     "status": "completed"
    },
    "tags": []
   },
   "outputs": [],
   "source": [
    "shutil.make_archive('./fine','zip',f'{PATHS.SAVE_DIR}/fine')\n",
    "shutil.make_archive('./hard','zip',f'{PATHS.SAVE_DIR}/hard')\n",
    "shutil.rmtree(f'./{PATHS.SAVE_DIR}')"
   ]
  }
 ],
 "metadata": {
  "kaggle": {
   "accelerator": "none",
   "dataSources": [
    {
     "databundleVersionId": 6589269,
     "sourceId": 53666,
     "sourceType": "competition"
    }
   ],
   "dockerImageVersionId": 30587,
   "isGpuEnabled": false,
   "isInternetEnabled": false,
   "language": "python",
   "sourceType": "notebook"
  },
  "kernelspec": {
   "display_name": "Python 3",
   "language": "python",
   "name": "python3"
  },
  "language_info": {
   "codemirror_mode": {
    "name": "ipython",
    "version": 3
   },
   "file_extension": ".py",
   "mimetype": "text/x-python",
   "name": "python",
   "nbconvert_exporter": "python",
   "pygments_lexer": "ipython3",
   "version": "3.10.12"
  },
  "papermill": {
   "default_parameters": {},
   "duration": 4416.237134,
   "end_time": "2023-11-21T06:12:47.048516",
   "environment_variables": {},
   "exception": null,
   "input_path": "__notebook__.ipynb",
   "output_path": "__notebook__.ipynb",
   "parameters": {},
   "start_time": "2023-11-21T04:59:10.811382",
   "version": "2.4.0"
  },
  "widgets": {
   "application/vnd.jupyter.widget-state+json": {
    "state": {
     "086cc8c1c4824bdd85d023d40687622d": {
      "model_module": "@jupyter-widgets/controls",
      "model_module_version": "1.5.0",
      "model_name": "ProgressStyleModel",
      "state": {
       "_model_module": "@jupyter-widgets/controls",
       "_model_module_version": "1.5.0",
       "_model_name": "ProgressStyleModel",
       "_view_count": null,
       "_view_module": "@jupyter-widgets/base",
       "_view_module_version": "1.2.0",
       "_view_name": "StyleView",
       "bar_color": null,
       "description_width": ""
      }
     },
     "367091e5210047dda759dbfcea07464e": {
      "model_module": "@jupyter-widgets/controls",
      "model_module_version": "1.5.0",
      "model_name": "HTMLModel",
      "state": {
       "_dom_classes": [],
       "_model_module": "@jupyter-widgets/controls",
       "_model_module_version": "1.5.0",
       "_model_name": "HTMLModel",
       "_view_count": null,
       "_view_module": "@jupyter-widgets/controls",
       "_view_module_version": "1.5.0",
       "_view_name": "HTMLView",
       "description": "",
       "description_tooltip": null,
       "layout": "IPY_MODEL_c9eee89cfc10471ba7b8ae45f21df42c",
       "placeholder": "​",
       "style": "IPY_MODEL_47f45260a4e64ad19010eba9aba22ea6",
       "value": " 277/277 [1:05:59&lt;00:00, 15.83s/it]"
      }
     },
     "41ad709a87f34f1d8d436fcbc51f44d0": {
      "model_module": "@jupyter-widgets/controls",
      "model_module_version": "1.5.0",
      "model_name": "DescriptionStyleModel",
      "state": {
       "_model_module": "@jupyter-widgets/controls",
       "_model_module_version": "1.5.0",
       "_model_name": "DescriptionStyleModel",
       "_view_count": null,
       "_view_module": "@jupyter-widgets/base",
       "_view_module_version": "1.2.0",
       "_view_name": "StyleView",
       "description_width": ""
      }
     },
     "47f45260a4e64ad19010eba9aba22ea6": {
      "model_module": "@jupyter-widgets/controls",
      "model_module_version": "1.5.0",
      "model_name": "DescriptionStyleModel",
      "state": {
       "_model_module": "@jupyter-widgets/controls",
       "_model_module_version": "1.5.0",
       "_model_name": "DescriptionStyleModel",
       "_view_count": null,
       "_view_module": "@jupyter-widgets/base",
       "_view_module_version": "1.2.0",
       "_view_name": "StyleView",
       "description_width": ""
      }
     },
     "49a4ccc2602a4f28890b692ee2d74707": {
      "model_module": "@jupyter-widgets/controls",
      "model_module_version": "1.5.0",
      "model_name": "FloatProgressModel",
      "state": {
       "_dom_classes": [],
       "_model_module": "@jupyter-widgets/controls",
       "_model_module_version": "1.5.0",
       "_model_name": "FloatProgressModel",
       "_view_count": null,
       "_view_module": "@jupyter-widgets/controls",
       "_view_module_version": "1.5.0",
       "_view_name": "ProgressView",
       "bar_style": "success",
       "description": "",
       "description_tooltip": null,
       "layout": "IPY_MODEL_eb56316545af4b269455ed4ba3c81896",
       "max": 277.0,
       "min": 0.0,
       "orientation": "horizontal",
       "style": "IPY_MODEL_086cc8c1c4824bdd85d023d40687622d",
       "value": 277.0
      }
     },
     "4f7e2b9caddc4e5e8e5c773c4098e13f": {
      "model_module": "@jupyter-widgets/base",
      "model_module_version": "1.2.0",
      "model_name": "LayoutModel",
      "state": {
       "_model_module": "@jupyter-widgets/base",
       "_model_module_version": "1.2.0",
       "_model_name": "LayoutModel",
       "_view_count": null,
       "_view_module": "@jupyter-widgets/base",
       "_view_module_version": "1.2.0",
       "_view_name": "LayoutView",
       "align_content": null,
       "align_items": null,
       "align_self": null,
       "border": null,
       "bottom": null,
       "display": null,
       "flex": null,
       "flex_flow": null,
       "grid_area": null,
       "grid_auto_columns": null,
       "grid_auto_flow": null,
       "grid_auto_rows": null,
       "grid_column": null,
       "grid_gap": null,
       "grid_row": null,
       "grid_template_areas": null,
       "grid_template_columns": null,
       "grid_template_rows": null,
       "height": null,
       "justify_content": null,
       "justify_items": null,
       "left": null,
       "margin": null,
       "max_height": null,
       "max_width": null,
       "min_height": null,
       "min_width": null,
       "object_fit": null,
       "object_position": null,
       "order": null,
       "overflow": null,
       "overflow_x": null,
       "overflow_y": null,
       "padding": null,
       "right": null,
       "top": null,
       "visibility": null,
       "width": null
      }
     },
     "6d791e64618547f7b7109d97aae25146": {
      "model_module": "@jupyter-widgets/controls",
      "model_module_version": "1.5.0",
      "model_name": "HBoxModel",
      "state": {
       "_dom_classes": [],
       "_model_module": "@jupyter-widgets/controls",
       "_model_module_version": "1.5.0",
       "_model_name": "HBoxModel",
       "_view_count": null,
       "_view_module": "@jupyter-widgets/controls",
       "_view_module_version": "1.5.0",
       "_view_name": "HBoxView",
       "box_style": "",
       "children": [
        "IPY_MODEL_ea7ebf6c32684c12ac9ffb1a7da75518",
        "IPY_MODEL_49a4ccc2602a4f28890b692ee2d74707",
        "IPY_MODEL_367091e5210047dda759dbfcea07464e"
       ],
       "layout": "IPY_MODEL_4f7e2b9caddc4e5e8e5c773c4098e13f"
      }
     },
     "c255d3d536cf452d997bb404528eb80b": {
      "model_module": "@jupyter-widgets/base",
      "model_module_version": "1.2.0",
      "model_name": "LayoutModel",
      "state": {
       "_model_module": "@jupyter-widgets/base",
       "_model_module_version": "1.2.0",
       "_model_name": "LayoutModel",
       "_view_count": null,
       "_view_module": "@jupyter-widgets/base",
       "_view_module_version": "1.2.0",
       "_view_name": "LayoutView",
       "align_content": null,
       "align_items": null,
       "align_self": null,
       "border": null,
       "bottom": null,
       "display": null,
       "flex": null,
       "flex_flow": null,
       "grid_area": null,
       "grid_auto_columns": null,
       "grid_auto_flow": null,
       "grid_auto_rows": null,
       "grid_column": null,
       "grid_gap": null,
       "grid_row": null,
       "grid_template_areas": null,
       "grid_template_columns": null,
       "grid_template_rows": null,
       "height": null,
       "justify_content": null,
       "justify_items": null,
       "left": null,
       "margin": null,
       "max_height": null,
       "max_width": null,
       "min_height": null,
       "min_width": null,
       "object_fit": null,
       "object_position": null,
       "order": null,
       "overflow": null,
       "overflow_x": null,
       "overflow_y": null,
       "padding": null,
       "right": null,
       "top": null,
       "visibility": null,
       "width": null
      }
     },
     "c9eee89cfc10471ba7b8ae45f21df42c": {
      "model_module": "@jupyter-widgets/base",
      "model_module_version": "1.2.0",
      "model_name": "LayoutModel",
      "state": {
       "_model_module": "@jupyter-widgets/base",
       "_model_module_version": "1.2.0",
       "_model_name": "LayoutModel",
       "_view_count": null,
       "_view_module": "@jupyter-widgets/base",
       "_view_module_version": "1.2.0",
       "_view_name": "LayoutView",
       "align_content": null,
       "align_items": null,
       "align_self": null,
       "border": null,
       "bottom": null,
       "display": null,
       "flex": null,
       "flex_flow": null,
       "grid_area": null,
       "grid_auto_columns": null,
       "grid_auto_flow": null,
       "grid_auto_rows": null,
       "grid_column": null,
       "grid_gap": null,
       "grid_row": null,
       "grid_template_areas": null,
       "grid_template_columns": null,
       "grid_template_rows": null,
       "height": null,
       "justify_content": null,
       "justify_items": null,
       "left": null,
       "margin": null,
       "max_height": null,
       "max_width": null,
       "min_height": null,
       "min_width": null,
       "object_fit": null,
       "object_position": null,
       "order": null,
       "overflow": null,
       "overflow_x": null,
       "overflow_y": null,
       "padding": null,
       "right": null,
       "top": null,
       "visibility": null,
       "width": null
      }
     },
     "ea7ebf6c32684c12ac9ffb1a7da75518": {
      "model_module": "@jupyter-widgets/controls",
      "model_module_version": "1.5.0",
      "model_name": "HTMLModel",
      "state": {
       "_dom_classes": [],
       "_model_module": "@jupyter-widgets/controls",
       "_model_module_version": "1.5.0",
       "_model_name": "HTMLModel",
       "_view_count": null,
       "_view_module": "@jupyter-widgets/controls",
       "_view_module_version": "1.5.0",
       "_view_name": "HTMLView",
       "description": "",
       "description_tooltip": null,
       "layout": "IPY_MODEL_c255d3d536cf452d997bb404528eb80b",
       "placeholder": "​",
       "style": "IPY_MODEL_41ad709a87f34f1d8d436fcbc51f44d0",
       "value": "100%"
      }
     },
     "eb56316545af4b269455ed4ba3c81896": {
      "model_module": "@jupyter-widgets/base",
      "model_module_version": "1.2.0",
      "model_name": "LayoutModel",
      "state": {
       "_model_module": "@jupyter-widgets/base",
       "_model_module_version": "1.2.0",
       "_model_name": "LayoutModel",
       "_view_count": null,
       "_view_module": "@jupyter-widgets/base",
       "_view_module_version": "1.2.0",
       "_view_name": "LayoutView",
       "align_content": null,
       "align_items": null,
       "align_self": null,
       "border": null,
       "bottom": null,
       "display": null,
       "flex": null,
       "flex_flow": null,
       "grid_area": null,
       "grid_auto_columns": null,
       "grid_auto_flow": null,
       "grid_auto_rows": null,
       "grid_column": null,
       "grid_gap": null,
       "grid_row": null,
       "grid_template_areas": null,
       "grid_template_columns": null,
       "grid_template_rows": null,
       "height": null,
       "justify_content": null,
       "justify_items": null,
       "left": null,
       "margin": null,
       "max_height": null,
       "max_width": null,
       "min_height": null,
       "min_width": null,
       "object_fit": null,
       "object_position": null,
       "order": null,
       "overflow": null,
       "overflow_x": null,
       "overflow_y": null,
       "padding": null,
       "right": null,
       "top": null,
       "visibility": null,
       "width": null
      }
     }
    },
    "version_major": 2,
    "version_minor": 0
   }
  }
 },
 "nbformat": 4,
 "nbformat_minor": 5
}
